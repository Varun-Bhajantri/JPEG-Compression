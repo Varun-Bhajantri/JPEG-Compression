{
  "cells": [
    {
      "cell_type": "code",
      "execution_count": 43,
      "metadata": {
        "colab": {
          "base_uri": "https://localhost:8080/"
        },
        "id": "W7yBJ3wsh7F9",
        "outputId": "d61bf967-12d8-417e-c6c9-3e0dc6ce5b7a"
      },
      "outputs": [
        {
          "output_type": "stream",
          "name": "stdout",
          "text": [
            "Requirement already satisfied: bitarray in /usr/local/lib/python3.10/dist-packages (2.8.3)\n"
          ]
        }
      ],
      "source": [
        "!pip install bitarray"
      ]
    },
    {
      "cell_type": "code",
      "execution_count": 44,
      "metadata": {
        "id": "dS1H7rH48KRD"
      },
      "outputs": [],
      "source": [
        "import math\n",
        "from struct import pack\n",
        "from bitarray import bitarray\n",
        "import numpy as np\n",
        "import cv2"
      ]
    },
    {
      "cell_type": "code",
      "execution_count": 45,
      "metadata": {
        "id": "EGVnuKKfKR3r"
      },
      "outputs": [],
      "source": [
        "N = 8 #block size"
      ]
    },
    {
      "cell_type": "code",
      "execution_count": 46,
      "metadata": {
        "id": "JRKdsdlgSGbx"
      },
      "outputs": [],
      "source": [
        "def rgb_to_ycbcr(r, g, b):\n",
        "    N = len(r)\n",
        "\n",
        "    y = [[0] * N for _ in range(N)]\n",
        "    cb = [[0] * N for _ in range(N)]\n",
        "    cr = [[0] * N for _ in range(N)]\n",
        "\n",
        "    for i in range(N):\n",
        "        for j in range(N):\n",
        "            y[i][j] = 0.299 * r[i][j] + 0.587 * g[i][j] + 0.114 * b[i][j]\n",
        "            cb[i][j] = -0.169 * r[i][j] - 0.331 * g[i][j] + 0.5 * b[i][j]\n",
        "            cr[i][j] = 0.5 * r[i][j] - 0.419 * g[i][j] - 0.081 * b[i][j]\n",
        "\n",
        "    return y, cb, cr"
      ]
    },
    {
      "cell_type": "code",
      "execution_count": 47,
      "metadata": {
        "id": "X1nDvlSK8DiT"
      },
      "outputs": [],
      "source": [
        "def dct(a):\n",
        "    n = len(a)\n",
        "    if n == 1:\n",
        "        return list(a)\n",
        "    else:\n",
        "        half = n // 2\n",
        "        alpha = [(a[i] + a[-(i + 1)]) for i in range(half)]\n",
        "        beta = [(a[i] - a[-(i + 1)]) / (math.cos((i + 0.5) * math.pi / n) * 2.0) for i in range(half)]\n",
        "        alpha = dct(alpha)\n",
        "        beta = dct(beta)\n",
        "        result = []\n",
        "        for i in range(half - 1):\n",
        "            result.append(alpha[i])\n",
        "            result.append(beta[i] + beta[i + 1])\n",
        "        result.append(alpha[-1])\n",
        "        result.append(beta[-1])\n",
        "        return result"
      ]
    },
    {
      "cell_type": "code",
      "execution_count": 48,
      "metadata": {
        "id": "YWbzvctn9Q6S"
      },
      "outputs": [],
      "source": [
        "def norm_coeff(n):\n",
        "    if n == 0:\n",
        "        return 1.0 / math.sqrt(2.0)\n",
        "    else:\n",
        "        return 1.0\n",
        "\n",
        "def dct2(a):\n",
        "    N = len(a)\n",
        "    A = [[0 for _ in range(N)] for __ in range(N)]\n",
        "\n",
        "    scaling = math.sqrt(2/N)\n",
        "    for col in range(N):\n",
        "        cur = [a[row][col] for row in range(N)]\n",
        "        cur = dct(cur)\n",
        "        for row in range(N):\n",
        "            A[row][col] = cur[row] * scaling\n",
        "            if row == 0:\n",
        "                A[row][col] /= math.sqrt(2)\n",
        "\n",
        "    for row in range(N):\n",
        "        cur = [A[row][col] for col in range(N)]\n",
        "        cur = dct(cur)\n",
        "        for col in range(N):\n",
        "            A[row][col] = cur[col] * scaling\n",
        "            if col == 0:\n",
        "                A[row][col] /= math.sqrt(2)\n",
        "\n",
        "    return A\n"
      ]
    },
    {
      "cell_type": "code",
      "execution_count": 49,
      "metadata": {
        "id": "QV5WmmD7I82m"
      },
      "outputs": [],
      "source": [
        "def quantize(input_matrix, quantization_matrix):\n",
        "    size = len(input_matrix)\n",
        "    quantized_matrix = [[round(input_matrix[row][col] / quantization_matrix[row][col]) for col in range(size)] for row in range(size)]\n",
        "\n",
        "    return quantized_matrix"
      ]
    },
    {
      "cell_type": "code",
      "execution_count": 50,
      "metadata": {
        "id": "6ZT5C6MAKCHk"
      },
      "outputs": [],
      "source": [
        "def zigzag_order(matrix):\n",
        "    size = len(matrix)\n",
        "    index = 0\n",
        "    go_down = False\n",
        "    zigzag_result = [0 for _ in range(size * size)]\n",
        "\n",
        "    for total_sum in range(2 * size - 1):\n",
        "        current_row, current_col = None, None\n",
        "\n",
        "        if go_down:\n",
        "            current_row = 0\n",
        "            current_col = total_sum - current_row\n",
        "\n",
        "            if current_col >= size:\n",
        "                current_col = size - 1\n",
        "                current_row = total_sum - current_col\n",
        "        else:\n",
        "            current_col = 0\n",
        "            current_row = total_sum - current_col\n",
        "\n",
        "            if current_row >= size:\n",
        "                current_row = size - 1\n",
        "                current_col = total_sum - current_row\n",
        "\n",
        "        while current_row >= 0 and current_row < size and current_col >= 0 and current_col < size:\n",
        "            zigzag_result[index] = matrix[current_row][current_col]\n",
        "            index += 1\n",
        "\n",
        "            if go_down:\n",
        "                current_row += 1\n",
        "                current_col -= 1\n",
        "            else:\n",
        "                current_row -= 1\n",
        "                current_col += 1\n",
        "\n",
        "        go_down = not go_down\n",
        "\n",
        "    return zigzag_result\n",
        "\n"
      ]
    },
    {
      "cell_type": "code",
      "execution_count": 51,
      "metadata": {
        "id": "f6b1m-X6eZoq"
      },
      "outputs": [],
      "source": [
        "def run_length_encode(zigzag_sequence):\n",
        "    start, end = 1, 1\n",
        "    last_nonzero_index = N * N - 1\n",
        "    rle_result = []\n",
        "\n",
        "    # Find the last non-zero element in the zigzag sequence\n",
        "    while last_nonzero_index >= 0 and zigzag_sequence[last_nonzero_index] == 0:\n",
        "        last_nonzero_index -= 1\n",
        "\n",
        "    while end <= last_nonzero_index:\n",
        "        if (zigzag_sequence[end] == 0 and end - start + 1 == 16) or zigzag_sequence[end] != 0:\n",
        "            rle_result += [end - start, int(zigzag_sequence[end]).bit_length(), zigzag_sequence[end]]\n",
        "            start = end + 1\n",
        "        end += 1\n",
        "\n",
        "    # Add zero run-length if the last element is zero\n",
        "    if last_nonzero_index != N * N - 1:\n",
        "        rle_result += [0, 0]\n",
        "\n",
        "    return rle_result"
      ]
    },
    {
      "cell_type": "code",
      "execution_count": 52,
      "metadata": {
        "id": "NBvZPOLWnJbc"
      },
      "outputs": [],
      "source": [
        "def huffcode(code_dictionary, node, current_code):\n",
        "    if node[1][1] is None and node[1][2] is None:\n",
        "        code_dictionary[node[1][0]] = current_code\n",
        "        return\n",
        "\n",
        "    if node[1][1] is not None:\n",
        "        next_code = current_code + \"0\"\n",
        "        huffcode(code_dictionary, node[1][1], next_code)\n",
        "\n",
        "    if node[1][2] is not None:\n",
        "        next_code = current_code + \"1\"\n",
        "        huffcode(code_dictionary, node[1][2], next_code)\n",
        "\n",
        "def modify_huffcode(code_dictionary):\n",
        "    modified_code_dict = dict()\n",
        "    values_list = [[] for _ in range(17)]\n",
        "\n",
        "    for key, val in code_dictionary.items():\n",
        "        values_list[len(val)].append(key)\n",
        "\n",
        "    current_value = 0\n",
        "    for i in range(17):\n",
        "        for j in range(len(values_list[i])):\n",
        "            current_bin = bin(current_value)[2:]\n",
        "            if '0' * (i - len(current_bin)) + current_bin == '1' * i:\n",
        "                values_list[i + 1] = [values_list[i][j]] + values_list[i + 1]\n",
        "                continue\n",
        "            modified_code_dict[values_list[i][j]] = '0' * (i - len(current_bin)) + current_bin\n",
        "            current_value += 1\n",
        "        current_value <<= 1\n",
        "\n",
        "    return modified_code_dict\n",
        "\n",
        "def huffcode_gen(data):\n",
        "    frequency_dict = dict()\n",
        "    for char in data:\n",
        "        if char in frequency_dict:\n",
        "            frequency_dict[char] += 1\n",
        "        else:\n",
        "            frequency_dict[char] = 1\n",
        "\n",
        "    priority_queue = []\n",
        "    for element in frequency_dict:\n",
        "        priority_queue.append([frequency_dict[element], [element, None, None]])\n",
        "\n",
        "    priority_queue.sort()\n",
        "    while len(priority_queue) > 1:\n",
        "        tree1 = priority_queue[0]\n",
        "        tree2 = priority_queue[1]\n",
        "\n",
        "        current_node = [tree1[0] + tree2[0], [-1, tree1, tree2]]\n",
        "        priority_queue.remove(tree1)\n",
        "        priority_queue.remove(tree2)\n",
        "        priority_queue.append(current_node)\n",
        "        priority_queue.sort(key=lambda tree: tree[0])\n",
        "\n",
        "    huffman_tree = priority_queue[0]\n",
        "\n",
        "    code_dict = dict()\n",
        "    code = \"\"\n",
        "    huffcode(code_dict, huffman_tree, code)\n",
        "    code_dict = modify_huffcode(code_dict)\n",
        "\n",
        "    return code_dict\n",
        "\n"
      ]
    },
    {
      "cell_type": "code",
      "execution_count": 53,
      "metadata": {
        "id": "X5FtVkWVcg_j"
      },
      "outputs": [],
      "source": [
        "def write_quant_table(jpeg_out, quant_table, type):\n",
        "    jpeg_out.write(b'\\xff\\xdb') # marker\n",
        "    jpeg_out.write(pack(\">H\",67)) # length of chunk\n",
        "    jpeg_out.write(pack(\"B\",type))\n",
        "    zigzag_quant = zigzag_order(quant_table)\n",
        "    for i in range(N*N):\n",
        "        jpeg_out.write(pack(\"B\",zigzag_quant[i]))"
      ]
    },
    {
      "cell_type": "code",
      "execution_count": 54,
      "metadata": {
        "id": "9kkbFjmCnVH1"
      },
      "outputs": [],
      "source": [
        "def write_SOF(jpeg_out,height,width,components):\n",
        "    jpeg_out.write(b'\\xff\\xc0') # marker\n",
        "    jpeg_out.write(pack(\">H\",8+3*components)) # length of chunk\n",
        "    jpeg_out.write(pack(\"B\",8)) # bits/sample\n",
        "    jpeg_out.write(pack(\">HHB\",height,width,components)) # height,width,components of image\n",
        "\n",
        "    for i in range(components):\n",
        "        #id, sampling factor, quant table id\n",
        "        jpeg_out.write(pack(\"BBB\", i+1, 16+1, min(i,1)))\n"
      ]
    },
    {
      "cell_type": "code",
      "execution_count": 55,
      "metadata": {
        "id": "sbkved-z2J_9"
      },
      "outputs": [],
      "source": [
        "def write_huffman_table(jpeg_out,type,code):\n",
        "    jpeg_out.write(b'\\xff\\xc4') # marker\n",
        "    jpeg_out.write(pack(\">HB\",19+len(code),type))\n",
        "\n",
        "    val_list = [[] for _ in range(16)]\n",
        "    for (key,val) in code.items():\n",
        "        val_list[len(val)-1].append(key)\n",
        "\n",
        "    for i in range(16):\n",
        "        jpeg_out.write(pack(\"B\",len(val_list[i])))\n",
        "    for i in range(16):\n",
        "        for val in val_list[i]:\n",
        "            jpeg_out.write(pack(\"B\",val))\n"
      ]
    },
    {
      "cell_type": "code",
      "execution_count": 56,
      "metadata": {
        "id": "1fGhOlTEqcSL"
      },
      "outputs": [],
      "source": [
        "def add_FF00(data):\n",
        "    result = \"\"\n",
        "    for i in range(0,len(data),8):\n",
        "        cur_byte = data[i:i+8]\n",
        "        result = result+cur_byte\n",
        "        if cur_byte==\"11111111\":\n",
        "            result = result+\"00000000\"\n",
        "    return result"
      ]
    },
    {
      "cell_type": "code",
      "execution_count": 57,
      "metadata": {
        "id": "Uw_pfcyBYwbz"
      },
      "outputs": [],
      "source": [
        "def write_SOS(jpeg_out,components,Y_dc_list, CB_dc_list, CR_dc_list, Y_ac_list, CB_ac_list, CR_ac_list,Y_dc_vli_list, CB_dc_vli_list, CR_dc_vli_list, Y_ac_vli_list, CB_ac_vli_list, CR_ac_vli_list,lum_dc_code,lum_ac_code,chr_dc_code,chr_ac_code):\n",
        "    jpeg_out.write(b'\\xff\\xda')\n",
        "    jpeg_out.write(pack(\">HB\",6+2*components,components))\n",
        "    jpeg_out.write(b'\\x01\\x00\\x02\\x11\\x03\\x11')\n",
        "    jpeg_out.write(pack(\"BBB\",0,63,0))\n",
        "    Y_dc_ptr, CB_dc_ptr, CR_dc_ptr, Y_ac_ptr, CB_ac_ptr, CR_ac_ptr,Y_dc_vli_ptr, CB_dc_vli_ptr, CR_dc_vli_ptr, Y_ac_vli_ptr, CB_ac_vli_ptr, CR_ac_vli_ptr = 0, 0, 0, 0, 0, 0,0, 0, 0, 0, 0, 0\n",
        "    data = \"\"\n",
        "    while Y_dc_ptr<len(Y_dc_list):\n",
        "        data = data+lum_dc_code[Y_dc_list[Y_dc_ptr]]+Y_dc_vli_list[Y_dc_vli_ptr]\n",
        "        Y_dc_ptr+=1\n",
        "        Y_dc_vli_ptr+=1\n",
        "        length_block = 1\n",
        "        while length_block<N*N and Y_ac_list[Y_ac_ptr]!=0:\n",
        "            data = data+lum_ac_code[Y_ac_list[Y_ac_ptr]]+Y_ac_vli_list[Y_ac_vli_ptr]\n",
        "\n",
        "            length_block += (Y_ac_list[Y_ac_ptr]>>4)\n",
        "            length_block += 1\n",
        "            Y_ac_ptr+=1\n",
        "            Y_ac_vli_ptr+=1\n",
        "        if length_block<N*N:\n",
        "            data = data+lum_ac_code[0]\n",
        "            Y_ac_ptr+=1\n",
        "\n",
        "        data = data+chr_dc_code[CB_dc_list[CB_dc_ptr]]+CB_dc_vli_list[CB_dc_vli_ptr]\n",
        "        CB_dc_ptr+=1\n",
        "        CB_dc_vli_ptr+=1\n",
        "        length_block = 1\n",
        "        while length_block<N*N and CB_ac_list[CB_ac_ptr]!=0:\n",
        "            data = data+chr_ac_code[CB_ac_list[CB_ac_ptr]]+CB_ac_vli_list[CB_ac_vli_ptr]\n",
        "            length_block += (CB_ac_list[CB_ac_ptr]>>4)\n",
        "            length_block += 1\n",
        "            CB_ac_ptr+=1\n",
        "            CB_ac_vli_ptr+=1\n",
        "        if length_block<N*N:\n",
        "            data = data+chr_ac_code[0]\n",
        "            CB_ac_ptr+=1\n",
        "\n",
        "        data = data+chr_dc_code[CR_dc_list[CR_dc_ptr]]+CR_dc_vli_list[CR_dc_vli_ptr]\n",
        "        CR_dc_ptr+=1\n",
        "        CR_dc_vli_ptr+=1\n",
        "        length_block = 1\n",
        "        while length_block<N*N and CR_ac_list[CR_ac_ptr]!=0:\n",
        "            data = data+chr_ac_code[CR_ac_list[CR_ac_ptr]]+CR_ac_vli_list[CR_ac_vli_ptr]\n",
        "            length_block += (CR_ac_list[CR_ac_ptr]>>4)\n",
        "            length_block += 1\n",
        "            CR_ac_ptr+=1\n",
        "            CR_ac_vli_ptr+=1\n",
        "        if length_block<N*N:\n",
        "            data = data+chr_ac_code[0]\n",
        "            CR_ac_ptr+=1\n",
        "\n",
        "    while len(data)%8!=0:\n",
        "        data=data+\"0\"\n",
        "    data = add_FF00(data)\n",
        "    data=bitarray(data)\n",
        "    jpeg_out.write(data)\n",
        ""
      ]
    },
    {
      "cell_type": "code",
      "execution_count": 58,
      "metadata": {
        "id": "VU0lzDKAAOtw"
      },
      "outputs": [],
      "source": [
        "def get_vli(number):\n",
        "    if number == 0:\n",
        "        return ''\n",
        "\n",
        "    if number < 0:\n",
        "        absolute_value = -number\n",
        "        inverted_absolute_value = (~absolute_value) & ((1 << absolute_value.bit_length()) - 1)\n",
        "        vli_representation = bin(inverted_absolute_value)[2:]\n",
        "        vli_representation = \"0\" * (absolute_value.bit_length() - len(vli_representation)) + vli_representation\n",
        "    else:\n",
        "        vli_representation = bin(number)[2:]\n",
        "\n",
        "    return vli_representation\n"
      ]
    },
    {
      "cell_type": "code",
      "execution_count": 59,
      "metadata": {
        "id": "Hq-n54ZF5JZr"
      },
      "outputs": [],
      "source": [
        "def rle_to_bits(rle):\n",
        "    rl_class,vli = [],[]\n",
        "    for i in range(0,len(rle),3):\n",
        "        rl_class.append(((rle[i]<<4)+rle[i+1]))\n",
        "        if rl_class[-1]==0:\n",
        "            break\n",
        "        vli.append(get_vli(rle[i+2]))\n",
        "    return rl_class,vli"
      ]
    },
    {
      "cell_type": "code",
      "execution_count": 60,
      "metadata": {
        "id": "fXNoj_vqo_9w"
      },
      "outputs": [],
      "source": [
        "def pad_image(original_red_channel, original_green_channel, original_blue_channel):\n",
        "    new_height, new_width = ((len(original_red_channel) + 7) // 8) * 8, ((len(original_red_channel[0]) + 7) // 8) * 8\n",
        "    padded_red_channel = [\n",
        "        [original_red_channel[min(i, len(original_red_channel) - 1)][min(j, len(original_red_channel[0]) - 1)] for j\n",
        "         in range(new_width)] for i in range(new_height)]\n",
        "    padded_green_channel = [\n",
        "        [original_green_channel[min(i, len(original_green_channel) - 1)][min(j, len(original_green_channel[0]) - 1)] for j\n",
        "         in range(new_width)] for i in range(new_height)]\n",
        "    padded_blue_channel = [\n",
        "        [original_blue_channel[min(i, len(original_blue_channel) - 1)][min(j, len(original_blue_channel[0]) - 1)] for j\n",
        "         in range(new_width)] for i in range(new_height)]\n",
        "\n",
        "    return padded_red_channel, padded_green_channel, padded_blue_channel\n"
      ]
    },
    {
      "cell_type": "code",
      "execution_count": 61,
      "metadata": {
        "id": "On-pWyY8-hEX"
      },
      "outputs": [],
      "source": [
        "def encode(r, g, b):\n",
        "    height, width = len(r), len(r[0])\n",
        "    r, g, b = pad_image(r, g, b)\n",
        "\n",
        "    quant_lum_matrix = [[16, 11, 10, 16, 24, 40, 51, 61],\n",
        "                        [12, 12, 14, 19, 26, 48, 60, 55],\n",
        "                        [14, 13, 16, 24, 40, 57, 69, 56],\n",
        "                        [14, 17, 22, 29, 51, 87, 80, 62],\n",
        "                        [18, 22, 37, 56, 68, 109, 103, 77],\n",
        "                        [24, 35, 55, 64, 81, 104, 113, 92],\n",
        "                        [49, 64, 78, 87, 103, 121, 120, 101],\n",
        "                        [72, 92, 95, 98, 112, 100, 103, 99]]\n",
        "\n",
        "    quant_chr_matrix = [[17, 18, 24, 47, 99, 99, 99, 99],\n",
        "                        [18, 21, 26, 66, 99, 99, 99, 99],\n",
        "                        [24, 26, 56, 99, 99, 99, 99, 99],\n",
        "                        [47, 66, 99, 99, 99, 99, 99, 99],\n",
        "                        [99, 99, 99, 99, 99, 99, 99, 99],\n",
        "                        [99, 99, 99, 99, 99, 99, 99, 99],\n",
        "                        [99, 99, 99, 99, 99, 99, 99, 99],\n",
        "                        [99, 99, 99, 99, 99, 99, 99, 99]]\n",
        "\n",
        "    scale = float(input(\"Enter the scaling on the standard quant matrix:\"))\n",
        "    quant_lum_matrix = [[min(max(1, int(quant_lum_matrix[i][j] * scale)), 255) for j in range(N)] for i in range(N)]\n",
        "    quant_chr_matrix = [[min(max(1, int(quant_chr_matrix[i][j] * scale)), 255) for j in range(N)] for i in range(N)]\n",
        "\n",
        "    Y_dc_bits_list, CB_dc_bits_list, CR_dc_bits_list = [], [], []\n",
        "    Y_ac_bits_list, CB_ac_bits_list, CR_ac_bits_list = [], [], []\n",
        "    Y_dc_vli_list, CB_dc_vli_list, CR_dc_vli_list = [], [], []\n",
        "    Y_ac_vli_list, CB_ac_vli_list, CR_ac_vli_list = [], [], []\n",
        "\n",
        "    prev_Y_dc, prev_CB_dc, prev_CR_dc = 0, 0, 0\n",
        "\n",
        "    for i in range(0, len(r)//8):\n",
        "        for j in range(0, len(r[0])//8):\n",
        "            cur_r = [[r[x][y] - 128 for y in range(j*8, j*8 + 8)] for x in range(i*8, i*8 + 8)]\n",
        "            cur_g = [[g[x][y] - 128 for y in range(j*8, j*8 + 8)] for x in range(i*8, i*8 + 8)]\n",
        "            cur_b = [[b[x][y] - 128 for y in range(j*8, j*8 + 8)] for x in range(i*8, i*8 + 8)]\n",
        "\n",
        "            y, cb, cr = rgb_to_ycbcr(cur_r, cur_g, cur_b)\n",
        "            Y, CB, CR = dct2(y), dct2(cb), dct2(cr)\n",
        "\n",
        "            Y, CB, CR = quantize(Y, quant_lum_matrix), quantize(CB, quant_chr_matrix), quantize(CR, quant_chr_matrix)\n",
        "            Y_z, CB_z, CR_z = zigzag_order(Y), zigzag_order(CB), zigzag_order(CR)\n",
        "\n",
        "            Y_rle, CB_rle, CR_rle = run_length_encode(Y_z), run_length_encode(CB_z), run_length_encode(CR_z)\n",
        "            Y_rl_class, Y_vli = rle_to_bits(Y_rle)\n",
        "            CB_rl_class, CB_vli = rle_to_bits(CB_rle)\n",
        "            CR_rl_class, CR_vli = rle_to_bits(CR_rle)\n",
        "\n",
        "            Y_ac_bits_list += Y_rl_class\n",
        "            CB_ac_bits_list += CB_rl_class\n",
        "            CR_ac_bits_list += CR_rl_class\n",
        "\n",
        "            Y_ac_vli_list += Y_vli\n",
        "            CB_ac_vli_list += CB_vli\n",
        "            CR_ac_vli_list += CR_vli\n",
        "\n",
        "            Y_dc, CB_dc, CR_dc = Y_z[0] - prev_Y_dc, CB_z[0] - prev_CB_dc, CR_z[0] - prev_CR_dc\n",
        "            Y_dc_bits_list.append(int(Y_dc).bit_length())\n",
        "            CB_dc_bits_list.append(int(CB_dc).bit_length())\n",
        "            CR_dc_bits_list.append(int(CR_dc).bit_length())\n",
        "\n",
        "            Y_dc_vli_list.append(get_vli(Y_dc))\n",
        "            CB_dc_vli_list.append(get_vli(CB_dc))\n",
        "            CR_dc_vli_list.append(get_vli(CR_dc))\n",
        "\n",
        "            prev_Y_dc, prev_CB_dc, prev_CR_dc = Y_z[0], CB_z[0], CR_z[0]\n",
        "\n",
        "    lum_dc_code = huffcode_gen(Y_dc_bits_list)\n",
        "    lum_ac_code = huffcode_gen(Y_ac_bits_list)\n",
        "    chr_dc_code = huffcode_gen(CB_dc_bits_list + CR_dc_bits_list)\n",
        "    chr_ac_code = huffcode_gen(CB_ac_bits_list + CR_ac_bits_list)\n",
        "\n",
        "    output_file = input(\"Enter output file name: \")\n",
        "    jpeg_out = open(output_file + \".jpg\", \"wb\")\n",
        "    jpeg_out.write(b'\\xff\\xd8\\xff\\xe0')\n",
        "    jpeg_out.write(pack(\">H\", 16))\n",
        "    jpeg_out.write(b'JFIF\\x00\\x01\\x01\\x01\\x00H\\x00H\\x00\\x00')\n",
        "\n",
        "    write_quant_table(jpeg_out, quant_lum_matrix, 0)\n",
        "    write_quant_table(jpeg_out, quant_chr_matrix, 1)\n",
        "\n",
        "    write_SOF(jpeg_out, height, width, 3)\n",
        "\n",
        "    write_huffman_table(jpeg_out, 0, lum_dc_code)\n",
        "    write_huffman_table(jpeg_out, 16, lum_ac_code)\n",
        "    write_huffman_table(jpeg_out, 1, chr_dc_code)\n",
        "    write_huffman_table(jpeg_out, 17, chr_ac_code)\n",
        "\n",
        "    write_SOS(jpeg_out, 3, Y_dc_bits_list, CB_dc_bits_list, CR_dc_bits_list,\n",
        "              Y_ac_bits_list, CB_ac_bits_list, CR_ac_bits_list,\n",
        "              Y_dc_vli_list, CB_dc_vli_list, CR_dc_vli_list,\n",
        "              Y_ac_vli_list, CB_ac_vli_list, CR_ac_vli_list,\n",
        "              lum_dc_code, lum_ac_code, chr_dc_code, chr_ac_code)\n",
        "\n",
        "    jpeg_out.write(b'\\xff\\xd9')\n",
        "    jpeg_out.close()\n"
      ]
    },
    {
      "cell_type": "code",
      "execution_count": 65,
      "metadata": {
        "colab": {
          "base_uri": "https://localhost:8080/"
        },
        "id": "fUj7Ax4aHOOv",
        "outputId": "88f8310f-d457-4b1f-bf0f-3b96a1f2f518"
      },
      "outputs": [
        {
          "name": "stdout",
          "output_type": "stream",
          "text": [
            "Enter raw image file name: lena_colored_256.bmp\n",
            "Enter the scaling on the standard quant matrix:10\n",
            "Enter output file name: out\n"
          ]
        }
      ],
      "source": [
        "file = input(\"Enter raw image file name: \")\n",
        "img = cv2.imread(file)\n",
        "r = img[:,:,2]\n",
        "r = [[r[i][j] for j in range(len(r[0]))] for i in range(len(r))]\n",
        "g = img[:,:,1]\n",
        "g = [[g[i][j] for j in range(len(g[0]))] for i in range(len(g))]\n",
        "b = img[:,:,0]\n",
        "b = [[b[i][j] for j in range(len(b[0]))] for i in range(len(b))]\n",
        "\n",
        "encode(r,g,b)"
      ]
    }
  ],
  "metadata": {
    "colab": {
      "provenance": []
    },
    "kernelspec": {
      "display_name": "Python 3",
      "name": "python3"
    },
    "language_info": {
      "name": "python"
    }
  },
  "nbformat": 4,
  "nbformat_minor": 0
}